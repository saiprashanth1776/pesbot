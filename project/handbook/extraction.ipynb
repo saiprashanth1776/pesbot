{
 "cells": [
  {
   "cell_type": "code",
   "execution_count": 6,
   "metadata": {},
   "outputs": [],
   "source": [
    "#taken 5 pages from the handbook and made into a sep. pdf conversion of that into html/xml/csv \n",
    "\n",
    "import pdftables_api\n",
    "\n",
    "c = pdftables_api.Client('2hc64ee9gou1')\n",
    "c.html('C:/Users/prash/Desktop/handbook.pdf', 'handbook')\n",
    "# c.xml('C:/Users/prash/Desktop/handbook.pdf', 'handbook')\n",
    "# c.csv('C:/Users/prash/Desktop/handbook.pdf', 'handbook')"
   ]
  },
  {
   "cell_type": "code",
   "execution_count": 4,
   "metadata": {},
   "outputs": [
    {
     "name": "stdout",
     "output_type": "stream",
     "text": [
      "At the end of the course, the student will be able to:\n",
      "\n",
      "•\tConvert a specification of a small to medium scale digital system into an implementation.\n",
      "\n",
      "•\tHierarchically decompose a complex specification into simpler components.\n",
      "\n",
      "•\tUnderstand concurrency and develop concurrent system specifications and implementations.\n",
      "\n",
      " \n",
      "\n",
      "PES University\tComputer Science and Engineering\n",
      "\n",
      " \n",
      "\n"
     ]
    }
   ],
   "source": [
    "#searching the text file for outcomes of a particular subject\n",
    "with open(\"D:/Downloads/handbook.txt\", \"r\") as f:\n",
    "    searchlines = f.readlines()\n",
    "    \n",
    "m=v=z=q=0\n",
    "code='UE17CS201'\n",
    "out='Course Outcomes'\n",
    "content='Course Content'\n",
    "reference='Reference Books'\n",
    "for l,line in enumerate(searchlines):\n",
    "    if code in line:\n",
    "        m=l #12360\n",
    "        \n",
    "r=k=m\n",
    "\n",
    "for line in searchlines[r:-1]:\n",
    "    r+=1\n",
    "    if (v==0) and content in line:                \n",
    "        v=r #12375\n",
    "for line in searchlines[m:v]:\n",
    "    k+=1\n",
    "    if (z==0) and out in line:\n",
    "        z=k #12368\n",
    "        \n",
    "for line in searchlines[r:]:\n",
    "    r+=1\n",
    "    if reference in line:\n",
    "        q=r \n",
    "        \n",
    "        \n",
    "for line in searchlines[z:k-1]:\n",
    "    print(line)"
   ]
  },
  {
   "cell_type": "code",
   "execution_count": 30,
   "metadata": {},
   "outputs": [
    {
     "name": "stdout",
     "output_type": "stream",
     "text": [
      "1.\t“Fundamentals of Database Systems”, Ramez Elamsri, Shamkant B Navathe, Pearson, 7th Edition, 2017.\n",
      "\n",
      "2.\t“Database Management Systems”, Johannes Gehrke, Raghu Ramakrishnan, McGraw-Hill, 3rd Edition, 2003.\n",
      "\n",
      "3.\t“Database Systems: The Complete Book”, Garcia-Molina, J D Ullman, Widom, 2nd Edition, Prentice-Hall, 2008.\n",
      "\n",
      "4.\t“Database System Concepts”, Silberschatz, H Korth, S Sudarshan,\n",
      "\n",
      "6th Edition, McGraw-Hill, 2010.\n",
      "\n",
      "\n",
      "\n"
     ]
    }
   ],
   "source": [
    "# reference books\n",
    "\n",
    "with open(\"D:/Downloads/handbook.txt\", \"r\") as f:\n",
    "    searchlines = f.readlines()\n",
    "    \n",
    "n=m=k=0\n",
    "code='UE17CS252'\n",
    "n = code[-1]\n",
    "reference='Reference Book'\n",
    "\n",
    "x=\"\"\n",
    "\n",
    "cod=list(code)\n",
    "cod[-1]=str(int(cod[-1])+1)\n",
    "\n",
    "for i in range(0, len(cod)):\n",
    "    x+=cod[i]\n",
    "for l,line in enumerate(searchlines):\n",
    "    if code in line:\n",
    "        m=l #12300\n",
    "n=b=m\n",
    "# print(n,b)\n",
    "        \n",
    "for line in searchlines[m:-1]:\n",
    "    b+=1\n",
    "    if (k==0) and reference in line:\n",
    "        k=b #13000\n",
    "# print(k)\n",
    "\n",
    "for line in searchlines[k:-1]:\n",
    "    if x in line:\n",
    "        break\n",
    "    print(line)"
   ]
  },
  {
   "cell_type": "markdown",
   "metadata": {},
   "source": [
    "#### with open(\"D:/downloads/handbook.txt\", \"r\") as f:\n",
    "    searchlines = f.readlines()\n",
    "m_list = []\n",
    "for i, line in enumerate(searchlines):\n",
    "    if \"UE17CS25\" in line: \n",
    "        print(line,i)"
   ]
  },
  {
   "cell_type": "code",
   "execution_count": null,
   "metadata": {},
   "outputs": [],
   "source": []
  }
 ],
 "metadata": {
  "kernelspec": {
   "display_name": "Python 3",
   "language": "python",
   "name": "python3"
  },
  "language_info": {
   "codemirror_mode": {
    "name": "ipython",
    "version": 3
   },
   "file_extension": ".py",
   "mimetype": "text/x-python",
   "name": "python",
   "nbconvert_exporter": "python",
   "pygments_lexer": "ipython3",
   "version": "3.6.5"
  }
 },
 "nbformat": 4,
 "nbformat_minor": 2
}
